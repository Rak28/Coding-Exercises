{
  "nbformat": 4,
  "nbformat_minor": 0,
  "metadata": {
    "colab": {
      "name": "LIST.ipynb",
      "provenance": [],
      "collapsed_sections": [],
      "include_colab_link": true
    },
    "kernelspec": {
      "name": "python3",
      "display_name": "Python 3"
    }
  },
  "cells": [
    {
      "cell_type": "markdown",
      "metadata": {
        "id": "view-in-github",
        "colab_type": "text"
      },
      "source": [
        "<a href=\"https://colab.research.google.com/github/Rak28/Coding-Exercises/blob/master/LIST.ipynb\" target=\"_parent\"><img src=\"https://colab.research.google.com/assets/colab-badge.svg\" alt=\"Open In Colab\"/></a>"
      ]
    },
    {
      "cell_type": "markdown",
      "metadata": {
        "id": "kufBMt9ws3lj",
        "colab_type": "text"
      },
      "source": [
        "# Programs to illustrate list data structure"
      ]
    },
    {
      "cell_type": "markdown",
      "metadata": {
        "id": "AdJPTXZItDYg",
        "colab_type": "text"
      },
      "source": [
        "Sort Keyword"
      ]
    },
    {
      "cell_type": "code",
      "metadata": {
        "id": "_Qs4_cmcs_lg",
        "colab_type": "code",
        "colab": {}
      },
      "source": [
        "list = [1,2,3,5,4,43,3,2,33,44,6]\n",
        "list.sort()\n",
        "print(list)\n",
        "list."
      ],
      "execution_count": 0,
      "outputs": []
    },
    {
      "cell_type": "markdown",
      "metadata": {
        "id": "aDNDExR2t0Vy",
        "colab_type": "text"
      },
      "source": [
        "Append Keyword"
      ]
    },
    {
      "cell_type": "code",
      "metadata": {
        "id": "w11DEBUnt2sQ",
        "colab_type": "code",
        "colab": {}
      },
      "source": [
        "list = [1,2,3,4,5,6]\n",
        "number = int(input(\"Enter a number\"))\n",
        "list.append(number)\n",
        "print(list)"
      ],
      "execution_count": 0,
      "outputs": []
    },
    {
      "cell_type": "markdown",
      "metadata": {
        "id": "hdKFAJzRuQFy",
        "colab_type": "text"
      },
      "source": [
        "Count Keyword - Returns no.of occurrences of the parameter"
      ]
    },
    {
      "cell_type": "code",
      "metadata": {
        "id": "yMRaSACfujCI",
        "colab_type": "code",
        "colab": {}
      },
      "source": [
        "list = [1,2,3,5,4,43,3,2,33,44,6]\n",
        "number = int(input(\"Enter the number to be searched\"))\n",
        "print(list.count(number))"
      ],
      "execution_count": 0,
      "outputs": []
    }
  ]
}